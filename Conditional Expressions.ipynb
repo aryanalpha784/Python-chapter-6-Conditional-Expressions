{
 "cells": [
  {
   "cell_type": "markdown",
   "id": "a961c1e5-cf52-491f-8841-3102adffc1dc",
   "metadata": {},
   "source": [
    "# 1.Write a program to find greatest of four numbers entered by the user."
   ]
  },
  {
   "cell_type": "code",
   "execution_count": 12,
   "id": "50340255-53ae-4f94-8918-d1ae7352c47f",
   "metadata": {},
   "outputs": [
    {
     "name": "stdin",
     "output_type": "stream",
     "text": [
      "Enter the number1:  1\n",
      "Enter the number2:  5\n",
      "Enter the number3:  6\n",
      "Enter the number4:  10\n"
     ]
    },
    {
     "name": "stdout",
     "output_type": "stream",
     "text": [
      "10 is the greatest\n"
     ]
    }
   ],
   "source": [
    "num1 = int(input(\"Enter the number1: \"))\n",
    "num2 = int(input(\"Enter the number2: \"))\n",
    "num3 = int(input(\"Enter the number3: \"))\n",
    "num4 = int(input(\"Enter the number4: \"))\n",
    "\n",
    "if num1 > num4:\n",
    "    f1 = num1\n",
    "else:\n",
    "    f1 = num4\n",
    "\n",
    "if num2 > num3:\n",
    "    f2 = num2\n",
    "else:\n",
    "    f2 = num3\n",
    "\n",
    "if f1 > f2:\n",
    "    print(str(f1) + \" is the greatest\")\n",
    "else:\n",
    "    print(str(f2) + \" is the greatest\")"
   ]
  },
  {
   "cell_type": "markdown",
   "id": "cd353c19-f59a-4ba1-be2b-7c8a4c6f68f9",
   "metadata": {},
   "source": [
    "# 2.Write a program to find out whether a student is pass or fail, if it requires total 40% and at least 33% in each subject to pass.Assume 3 subjects and take marks as an input from the user."
   ]
  },
  {
   "cell_type": "code",
   "execution_count": 22,
   "id": "3257d906-5014-4b43-80f8-4d821220a2c8",
   "metadata": {},
   "outputs": [
    {
     "name": "stdin",
     "output_type": "stream",
     "text": [
      "Enter the marks of subject1:  33\n",
      "Enter the marks of subject2:  33\n",
      "Enter the marks of subject3:  33\n"
     ]
    },
    {
     "name": "stdout",
     "output_type": "stream",
     "text": [
      "You are pass\n"
     ]
    }
   ],
   "source": [
    "s1 = int(input(\"Enter the marks of subject1: \"))\n",
    "s2 = int(input(\"Enter the marks of subject2: \"))\n",
    "s3 = int(input(\"Enter the marks of subject3: \"))\n",
    "\n",
    "if(s1+s2+s3)/3 < 40:\n",
    "    print(\"You are pass\")\n",
    "\n",
    "elif(s1<33, s2<33, s3<33):\n",
    "    print(\"You are pass\")\n",
    "\n",
    "else:\n",
    "    (\"You are fail\")"
   ]
  },
  {
   "cell_type": "markdown",
   "id": "21c43f31-230f-4335-bb8f-d9787d87142f",
   "metadata": {},
   "source": [
    "# 3. A spam comment is definded as a text containing following keywords:\n",
    "\n",
    "     \"make a lot of money\"\n",
    "     \"buy now\"\n",
    "     \"subscribe now\"\n",
    "     \"click this\"\n",
    "\n",
    "# write a program to detect these spams."
   ]
  },
  {
   "cell_type": "code",
   "execution_count": 31,
   "id": "a03a9845-9347-41cc-bdab-e912e2929155",
   "metadata": {},
   "outputs": [
    {
     "name": "stdin",
     "output_type": "stream",
     "text": [
      "Enter the text/n HI\n"
     ]
    },
    {
     "name": "stdout",
     "output_type": "stream",
     "text": [
      "This is not spam\n"
     ]
    }
   ],
   "source": [
    "Comment = input(\"Enter the text/n\")\n",
    "\n",
    "if(\"make a lot of money\" in Comment):\n",
    "    spam = True\n",
    "\n",
    "elif(\"buy now\" in Comment):\n",
    "    spam = True\n",
    "\n",
    "elif(\"subscribe now\" in Comment):\n",
    "    spam = True\n",
    "\n",
    "elif(\"click this\" in Comment):\n",
    "    spam = True\n",
    "\n",
    "else:\n",
    "    spam = False\n",
    "\n",
    "if(spam):\n",
    "    print(\"This is spam\")\n",
    "\n",
    "else:\n",
    "    print(\"This is not spam\")\n"
   ]
  },
  {
   "cell_type": "markdown",
   "id": "0ab49526-d69d-4019-ac95-65f9e61f6438",
   "metadata": {},
   "source": [
    "# 4.Write a program to find whether a given username contains less than 10 characters or not."
   ]
  },
  {
   "cell_type": "code",
   "execution_count": 36,
   "id": "3f883390-a117-4bc1-9b1e-ac5a2139fbef",
   "metadata": {},
   "outputs": [
    {
     "name": "stdin",
     "output_type": "stream",
     "text": [
      "Enter the username:  Hi! How are you?\n"
     ]
    },
    {
     "name": "stdout",
     "output_type": "stream",
     "text": [
      "Entered username contains 10 or more than 10 characters\n"
     ]
    }
   ],
   "source": [
    "username = input(\"Enter the username: \")\n",
    "\n",
    "if(len(username) < 10):\n",
    "    print(\"Entered username contains less than 10 characters\")\n",
    "\n",
    "else:\n",
    "    print(\"Entered username contains 10 or more than 10 characters\")"
   ]
  },
  {
   "cell_type": "markdown",
   "id": "891b700f-039e-4017-bf90-60f3b8904f65",
   "metadata": {},
   "source": [
    "# 5.Write a program which finds out whether a given name is present in a list or not."
   ]
  },
  {
   "cell_type": "code",
   "execution_count": null,
   "id": "db409281-15c1-4acb-a704-d581ba3e1fce",
   "metadata": {},
   "outputs": [],
   "source": [
    "names = [\"Rahul\", \"Raju\", \"Sara\", \"Shital\"]\n",
    "name = input(\"Enter the name\")\n",
    "\n",
    "if(name in names):\n",
    "    print(\"The name is present\")\n",
    "\n",
    "else:\n",
    "    print(\"The name is not present\")"
   ]
  },
  {
   "cell_type": "markdown",
   "id": "a4b4c950-4186-4c3e-bbd1-ebaa4adec7fa",
   "metadata": {},
   "source": [
    "# 6.Write a program to calculate the grade of a student from his marks from the following scheme:\n",
    "\n",
    "          90-100 - Excellent\n",
    "          80-90 - A\n",
    "          70-80 - B\n",
    "          60-70 - C\n",
    "          50-60 - D\n",
    "            <50 - f"
   ]
  },
  {
   "cell_type": "code",
   "execution_count": 50,
   "id": "668cbee5-a34b-4142-90ab-51f4e96c07b3",
   "metadata": {},
   "outputs": [
    {
     "name": "stdin",
     "output_type": "stream",
     "text": [
      "Enter the marks:  98\n"
     ]
    },
    {
     "name": "stdout",
     "output_type": "stream",
     "text": [
      "Your grade is Excellent\n"
     ]
    }
   ],
   "source": [
    "marks = int(input(\"Enter the marks: \"))\n",
    "\n",
    "if(marks>90):\n",
    "     grade = \"Excellent\"\n",
    "\n",
    "elif(marks>80):\n",
    "    grade = \"A\"\n",
    "\n",
    "elif(marks>70):\n",
    "    grade = \"B\"\n",
    "\n",
    "elif(marks>60):\n",
    "    grade = \"C\"\n",
    "\n",
    "else:\n",
    "    grade = \"F\"\n",
    "\n",
    "print(\"Your grade is \" + grade)"
   ]
  },
  {
   "cell_type": "markdown",
   "id": "42642157-0107-4ce1-b17a-c63175331723",
   "metadata": {},
   "source": [
    "# 7. Write a program to find out whether a given post is talking about \"name\" or not."
   ]
  },
  {
   "cell_type": "code",
   "execution_count": 56,
   "id": "56305590-c645-431b-805e-00559d3600ea",
   "metadata": {},
   "outputs": [
    {
     "name": "stdin",
     "output_type": "stream",
     "text": [
      "Enter the name:  name\n"
     ]
    },
    {
     "name": "stdout",
     "output_type": "stream",
     "text": [
      "Post is not talking about name\n"
     ]
    }
   ],
   "source": [
    "post = input(\"Enter the name: \")\n",
    "\n",
    "if (name in post):\n",
    "    print(\"Post is talking about name\")\n",
    "\n",
    "else:\n",
    "    print(\"Post is not talking about name\")"
   ]
  },
  {
   "cell_type": "code",
   "execution_count": null,
   "id": "dc3ce013-dea3-4247-9e33-ce0dc654bad6",
   "metadata": {},
   "outputs": [],
   "source": []
  }
 ],
 "metadata": {
  "kernelspec": {
   "display_name": "Python 3 (ipykernel)",
   "language": "python",
   "name": "python3"
  },
  "language_info": {
   "codemirror_mode": {
    "name": "ipython",
    "version": 3
   },
   "file_extension": ".py",
   "mimetype": "text/x-python",
   "name": "python",
   "nbconvert_exporter": "python",
   "pygments_lexer": "ipython3",
   "version": "3.11.7"
  }
 },
 "nbformat": 4,
 "nbformat_minor": 5
}
